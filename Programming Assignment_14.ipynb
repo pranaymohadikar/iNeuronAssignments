{
 "cells": [
  {
   "cell_type": "markdown",
   "id": "414a9061",
   "metadata": {},
   "source": [
    "Define a class with a generator which can iterate the numbers, which are divisible by\n",
    "7, between a given range 0 and n."
   ]
  },
  {
   "cell_type": "code",
   "execution_count": 7,
   "id": "2f64e23b",
   "metadata": {},
   "outputs": [
    {
     "name": "stdout",
     "output_type": "stream",
     "text": [
      "enter a number: 21\n",
      "0\n",
      "7\n",
      "14\n",
      "21\n"
     ]
    }
   ],
   "source": [
    "class DivBy7():\n",
    "    def __init__(self,n):\n",
    "        self.n = n\n",
    "    \n",
    "    def Generate_div_by_7(self):\n",
    "        for i in range(self.n+1):\n",
    "            if i%7 == 0:\n",
    "                yield i\n",
    "                \n",
    "lt = int(input('enter a number: '))\n",
    "div_by_7 = DivBy7(lt)\n",
    "\n",
    "for i in div_by_7.Generate_div_by_7():\n",
    "    print(i)"
   ]
  },
  {
   "cell_type": "markdown",
   "id": "de4a8e98",
   "metadata": {},
   "source": [
    "Please write a binary search function which searches an item in a sorted list. The\n",
    "function should return the index of element to be searched in the list."
   ]
  },
  {
   "cell_type": "code",
   "execution_count": 11,
   "id": "94cf4178",
   "metadata": {},
   "outputs": [
    {
     "name": "stdout",
     "output_type": "stream",
     "text": [
      "Element found at index: 3\n"
     ]
    }
   ],
   "source": [
    "#took idea from internet\n",
    "\n",
    "def binary_search(list, element):\n",
    "    low = 0\n",
    "    high = len(list) - 1\n",
    "\n",
    "    while low <= high:\n",
    "        mid = (low + high) // 2\n",
    "\n",
    "        if list[mid] == element:\n",
    "            return mid\n",
    "        elif list[mid] < element:\n",
    "            low = mid + 1\n",
    "        else:\n",
    "            high = mid - 1\n",
    "\n",
    "    return -1\n",
    "\n",
    "# Example usage:\n",
    "list = [2, 5, 7, 10, 13, 15, 17, 20]\n",
    "element = 10\n",
    "\n",
    "index = binary_search(list, element)\n",
    "\n",
    "if index != -1:\n",
    "    print(\"Element found at index:\", index)\n",
    "else:\n",
    "    print(\"Element not found in the list.\")\n"
   ]
  },
  {
   "cell_type": "markdown",
   "id": "7ddf979a",
   "metadata": {},
   "source": [
    "Please write a program to compress and decompress the string &quot;hello world!hello\n",
    "world!hello world!hello world!&quot;."
   ]
  },
  {
   "cell_type": "code",
   "execution_count": 26,
   "id": "7d1c38a5",
   "metadata": {},
   "outputs": [
    {
     "name": "stdout",
     "output_type": "stream",
     "text": [
      "Original string: hello world!hello world!hello world!hello world!\n",
      "Compressed string: b'x\\x9c\\xcbH\\xcd\\xc9\\xc9W(\\xcf/\\xcaIQ\\xcc \\x82\\r\\x00\\xbd[\\x11\\xf5'\n",
      "Decompressed string: hello world!hello world!hello world!hello world!\n"
     ]
    }
   ],
   "source": [
    "#took idea from internet\n",
    "\n",
    "import zlib\n",
    "\n",
    "def compress(str):\n",
    "    compressed = zlib.compress(str.encode(\"utf-8\"))\n",
    "    return compressed\n",
    "\n",
    "def decompress(compressed):\n",
    "    decompress = zlib.decompress(compressed)\n",
    "    return decompress.decode(\"utf-8\")\n",
    "\n",
    "str = \"hello world!hello world!hello world!hello world!\"\n",
    "compressed = compress(str)\n",
    "decompressed = decompress(compressed)\n",
    "\n",
    "print(\"Original string:\", str)\n",
    "print(\"Compressed string:\", compressed)\n",
    "print(\"Decompressed string:\", decompressed)"
   ]
  },
  {
   "cell_type": "markdown",
   "id": "52399fa5",
   "metadata": {},
   "source": [
    "Please write a program to generate all sentences where subject is in [&quot;I&quot;, &quot;You&quot;] and\n",
    "verb is in [&quot;Play&quot;, &quot;Love&quot;] and the object is in [&quot;Hockey&quot;,&quot;Football&quot;]."
   ]
  },
  {
   "cell_type": "code",
   "execution_count": 14,
   "id": "cafc95f4",
   "metadata": {
    "scrolled": true
   },
   "outputs": [
    {
     "name": "stdout",
     "output_type": "stream",
     "text": [
      "I Play Hockey\n",
      "I Play Football\n",
      "I Love Hockey\n",
      "I Love Football\n",
      "You Play Hockey\n",
      "You Play Football\n",
      "You Love Hockey\n",
      "You Love Football\n"
     ]
    }
   ],
   "source": [
    "subjects = [\"I\", \"You\"]\n",
    "verbs = [\"Play\", \"Love\"]\n",
    "objects = [\"Hockey\", \"Football\"]\n",
    "\n",
    "sentences = []\n",
    "for subject in subjects:\n",
    "    for verb in verbs:\n",
    "        for object in objects:\n",
    "            sentence = f\"{subject} {verb} {object}\"\n",
    "            sentences.append(sentence)\n",
    "\n",
    "for sentence in sentences:\n",
    "    print(sentence)\n"
   ]
  },
  {
   "cell_type": "markdown",
   "id": "91b0ef76",
   "metadata": {},
   "source": [
    "Define a class Person and its two child classes: Male and Female. All classes have a\n",
    "method &quot;getGender&quot; which can print &quot;Male&quot; for Male class and &quot;Female&quot; for Female\n",
    "class."
   ]
  },
  {
   "cell_type": "code",
   "execution_count": 15,
   "id": "9d688df2",
   "metadata": {},
   "outputs": [
    {
     "name": "stdout",
     "output_type": "stream",
     "text": [
      "Male\n",
      "Female\n"
     ]
    }
   ],
   "source": [
    "class Person:\n",
    "\n",
    "    def __init__(self, name):\n",
    "        self.name = name\n",
    "\n",
    "class Male(Person):\n",
    "\n",
    "    def getGender(self):\n",
    "        return \"Male\"\n",
    "\n",
    "class Female(Person):\n",
    "\n",
    "    def getGender(self):\n",
    "        return \"Female\"\n",
    "\n",
    "\n",
    "male = Male(\"John\")\n",
    "print(male.getGender())\n",
    "female = Female(\"Jane\")\n",
    "print(female.getGender())\n"
   ]
  },
  {
   "cell_type": "markdown",
   "id": "dd6320fd",
   "metadata": {},
   "source": [
    "Write a program to compute the frequency of the words from the input. The output\n",
    "should output after sorting the key alphanumerically."
   ]
  },
  {
   "cell_type": "code",
   "execution_count": 25,
   "id": "32bc5110",
   "metadata": {},
   "outputs": [
    {
     "name": "stdout",
     "output_type": "stream",
     "text": [
      "count :  1\n",
      "hello :  3\n",
      "is :  2\n",
      "the :  2\n"
     ]
    }
   ],
   "source": [
    "def compute_word_frequency(input_string):\n",
    "    words = input_string.split()\n",
    "    word_frequency = {}\n",
    "    for i in words:\n",
    "        if i in word_frequency:\n",
    "            word_frequency[i] += 1\n",
    "        else:\n",
    "            word_frequency[i] = 1\n",
    "    sorted_words = sorted(word_frequency.keys())\n",
    "    for i in sorted_words:\n",
    "        print(i, \": \", word_frequency[i])\n",
    "        \n",
    "input_string = \"hello hello hello is the count is the \"\n",
    "compute_word_frequency(input_string)\n"
   ]
  },
  {
   "cell_type": "code",
   "execution_count": null,
   "id": "0a17080e",
   "metadata": {},
   "outputs": [],
   "source": []
  }
 ],
 "metadata": {
  "kernelspec": {
   "display_name": "Python 3 (ipykernel)",
   "language": "python",
   "name": "python3"
  },
  "language_info": {
   "codemirror_mode": {
    "name": "ipython",
    "version": 3
   },
   "file_extension": ".py",
   "mimetype": "text/x-python",
   "name": "python",
   "nbconvert_exporter": "python",
   "pygments_lexer": "ipython3",
   "version": "3.9.13"
  }
 },
 "nbformat": 4,
 "nbformat_minor": 5
}
