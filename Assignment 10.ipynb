{
 "cells": [
  {
   "cell_type": "markdown",
   "id": "c80c14b7",
   "metadata": {},
   "source": [
    "1. How do you distinguish between shutil.copy() and shutil.copytree()?"
   ]
  },
  {
   "cell_type": "markdown",
   "id": "7f94f8bc",
   "metadata": {},
   "source": [
    "Ans.\n",
    "shutil.copy() --> for copying single file\n",
    "shutil.copytree() --> for copying the content of entire directory"
   ]
  },
  {
   "cell_type": "markdown",
   "id": "004156e2",
   "metadata": {},
   "source": [
    "2. What function is used to rename files??"
   ]
  },
  {
   "cell_type": "markdown",
   "id": "e5430ea8",
   "metadata": {},
   "source": [
    "Ans.\n",
    "os.rename()"
   ]
  },
  {
   "cell_type": "markdown",
   "id": "7e634215",
   "metadata": {},
   "source": [
    "3. What is the difference between the delete functions in the send2trash and shutil modules?"
   ]
  },
  {
   "cell_type": "markdown",
   "id": "6ab72e78",
   "metadata": {},
   "source": [
    "Ans.\n",
    "send2trash --> delete the content with the option of recovering them.\n",
    "shutil modules --> delete the content permanently"
   ]
  },
  {
   "cell_type": "markdown",
   "id": "68ed2d6b",
   "metadata": {},
   "source": [
    "4.ZipFile objects have a close() method just like File objects’ close() method. What ZipFile method is\n",
    "equivalent to File objects’ open() method?"
   ]
  },
  {
   "cell_type": "markdown",
   "id": "b7f096c4",
   "metadata": {},
   "source": [
    "Ans.\n",
    "The ZipFile module offers a method called zipfile.ZipFile() that allows for reading from and writing to zip files."
   ]
  },
  {
   "cell_type": "markdown",
   "id": "6327d29d",
   "metadata": {},
   "source": [
    "5. Create a programme that searches a folder tree for files with a certain file extension (such as .pdf\n",
    "or .jpg). Copy these files from whatever location they are in to a new folder.\n"
   ]
  },
  {
   "cell_type": "code",
   "execution_count": 4,
   "id": "9ec7e697",
   "metadata": {},
   "outputs": [],
   "source": [
    "import os\n",
    "import shutil\n",
    "\n",
    "def copy_files(main_dir, copy_dir, extensions):\n",
    "    # Create the Copy_dir folder if it doesn't exist\n",
    "    if not os.path.exists(copy_dir):\n",
    "        os.makedirs(copy_dir)\n",
    "\n",
    "   \n",
    "    for foldername, subfolders, filenames in os.walk(main_dir):\n",
    "        for filename in filenames:\n",
    "           \n",
    "            if os.path.splitext(filename)[1].lower() in extensions:\n",
    "                main_path = os.path.join(foldername, filename)\n",
    "                copy_path = os.path.join(copy_dir, filename)\n",
    "                \n",
    "                shutil.copy2(src_path, dest_path)"
   ]
  },
  {
   "cell_type": "code",
   "execution_count": null,
   "id": "2734fb2c",
   "metadata": {},
   "outputs": [],
   "source": []
  }
 ],
 "metadata": {
  "kernelspec": {
   "display_name": "Python 3 (ipykernel)",
   "language": "python",
   "name": "python3"
  },
  "language_info": {
   "codemirror_mode": {
    "name": "ipython",
    "version": 3
   },
   "file_extension": ".py",
   "mimetype": "text/x-python",
   "name": "python",
   "nbconvert_exporter": "python",
   "pygments_lexer": "ipython3",
   "version": "3.9.13"
  }
 },
 "nbformat": 4,
 "nbformat_minor": 5
}
