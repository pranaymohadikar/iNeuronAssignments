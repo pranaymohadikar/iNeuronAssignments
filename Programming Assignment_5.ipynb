{
 "cells": [
  {
   "cell_type": "markdown",
   "metadata": {},
   "source": [
    "1. Write a Python Program to Find LCM?"
   ]
  },
  {
   "cell_type": "code",
   "execution_count": 5,
   "metadata": {},
   "outputs": [
    {
     "name": "stdout",
     "output_type": "stream",
     "text": [
      "enter num 1: 45\n",
      "enter num 2: 9\n",
      "45\n"
     ]
    }
   ],
   "source": [
    "import math    #took idea of GCD from internet\n",
    "\n",
    "def lcm(a, b):\n",
    " \n",
    "\n",
    "  gcd = math.gcd(a, b)\n",
    "  return a * b // gcd\n",
    "\n",
    "num1 = int(input('enter num 1: '))\n",
    "num2 = int(input('enter num 2: '))\n",
    "\n",
    "print(lcm(num1,num2))"
   ]
  },
  {
   "cell_type": "markdown",
   "metadata": {},
   "source": [
    "2. Write a Python Program to Find HCF?"
   ]
  },
  {
   "cell_type": "code",
   "execution_count": 9,
   "metadata": {},
   "outputs": [
    {
     "name": "stdout",
     "output_type": "stream",
     "text": [
      "enter num 1: 4\n",
      "enter num 2: 8\n",
      "4\n"
     ]
    }
   ],
   "source": [
    "def hcf(a,b):\n",
    "    min_ = min(a,b)\n",
    "    #let hcf = 1\n",
    "    hcf = 1\n",
    "    for i in range(1, min_+1):\n",
    "        if a%i == 0 and b%i == 0:\n",
    "            hcf = i\n",
    "    return hcf\n",
    "\n",
    "num1 = int(input('enter num 1: '))\n",
    "num2 = int(input('enter num 2: '))\n",
    "\n",
    "print(hcf(num1,num2))"
   ]
  },
  {
   "cell_type": "markdown",
   "metadata": {},
   "source": [
    "5. Write a Python Program to Make a Simple Calculator with 4 basic mathematical operations?"
   ]
  },
  {
   "cell_type": "code",
   "execution_count": 10,
   "metadata": {},
   "outputs": [
    {
     "name": "stdout",
     "output_type": "stream",
     "text": [
      "enter num 1: 1\n",
      "enter num 2: 2\n",
      "Select an operation.\n",
      "1. Addition\n",
      "2. Subtraction\n",
      "3. Multiplication\n",
      "4. Division\n",
      "Enter your choice (1/2/3/4): 3\n",
      "The result is 2\n"
     ]
    }
   ],
   "source": [
    "def add(a, b):\n",
    "\n",
    "  return a + b\n",
    "\n",
    "def subtract(a, b):\n",
    "  \n",
    "  return a - b\n",
    "\n",
    "def multiply(a, b):\n",
    "\n",
    "  return a * b\n",
    "\n",
    "def divide(a, b):\n",
    "\n",
    "  return a / b\n",
    "\n",
    "num1 = int(input('enter num 1: '))\n",
    "num2 = int(input('enter num 2: '))\n",
    "\n",
    "print(\"Select an operation.\")\n",
    "print(\"1. Addition\")\n",
    "print(\"2. Subtraction\")\n",
    "print(\"3. Multiplication\")\n",
    "print(\"4. Division\")\n",
    "\n",
    "operation = input(\"Enter your choice (1/2/3/4): \")\n",
    "\n",
    "if operation == \"1\":\n",
    "  result = add(num1, num2)\n",
    "elif operation == \"2\":\n",
    "  result = subtract(num1, num2)\n",
    "elif operation == \"3\":\n",
    "  result = multiply(num1, num2)\n",
    "elif operation == \"4\":\n",
    "  result = divide(num1, num2)\n",
    "\n",
    "print(\"The result is\", result)\n"
   ]
  },
  {
   "cell_type": "code",
   "execution_count": 11,
   "metadata": {},
   "outputs": [],
   "source": [
    "# not able to figure it out 3 and 4 using basics."
   ]
  },
  {
   "cell_type": "code",
   "execution_count": null,
   "metadata": {},
   "outputs": [],
   "source": []
  }
 ],
 "metadata": {
  "kernelspec": {
   "display_name": "Python 3",
   "language": "python",
   "name": "python3"
  },
  "language_info": {
   "codemirror_mode": {
    "name": "ipython",
    "version": 3
   },
   "file_extension": ".py",
   "mimetype": "text/x-python",
   "name": "python",
   "nbconvert_exporter": "python",
   "pygments_lexer": "ipython3",
   "version": "3.9.1"
  }
 },
 "nbformat": 4,
 "nbformat_minor": 4
}
