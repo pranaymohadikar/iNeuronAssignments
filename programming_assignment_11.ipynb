{
 "cells": [
  {
   "cell_type": "markdown",
   "metadata": {},
   "source": [
    "1. Write a Python program to find words which are greater than given length k?"
   ]
  },
  {
   "cell_type": "code",
   "execution_count": 3,
   "metadata": {},
   "outputs": [
    {
     "data": {
      "text/plain": [
       "1"
      ]
     },
     "execution_count": 3,
     "metadata": {},
     "output_type": "execute_result"
    }
   ],
   "source": [
    "def find_long_words(s,k):\n",
    "    count = 0\n",
    "    for i in s.split():\n",
    "        if len(i) > k:\n",
    "            count+=1\n",
    "        \n",
    "    return count\n",
    "\n",
    "s=\"this is pray mohadikar\"\n",
    "k = 5\n",
    "\n",
    "find_long_words(s,k)"
   ]
  },
  {
   "cell_type": "markdown",
   "metadata": {},
   "source": [
    "2. Write a Python program for removing i-th character from a string?"
   ]
  },
  {
   "cell_type": "code",
   "execution_count": 4,
   "metadata": {},
   "outputs": [
    {
     "data": {
      "text/plain": [
       "'Ths is a string'"
      ]
     },
     "execution_count": 4,
     "metadata": {},
     "output_type": "execute_result"
    }
   ],
   "source": [
    "def remove_ith_character(s, k):\n",
    "    new_string = \"\"\n",
    "    for j in range(len(s)):\n",
    "        if j != k:\n",
    "            new_string += s[j]\n",
    "    return new_string\n",
    "\n",
    "\n",
    "s = \"This is a string\"\n",
    "k = 2\n",
    "\n",
    "remove_ith_character(s,k)\n"
   ]
  },
  {
   "cell_type": "markdown",
   "metadata": {},
   "source": [
    "3. Write a Python program to split and join a string?"
   ]
  },
  {
   "cell_type": "code",
   "execution_count": 5,
   "metadata": {},
   "outputs": [
    {
     "data": {
      "text/plain": [
       "(['this', 'is', 'pranay'], 'this is pranay')"
      ]
     },
     "execution_count": 5,
     "metadata": {},
     "output_type": "execute_result"
    }
   ],
   "source": [
    "def split_and_join(str, delimiter):\n",
    "    words = str.split(delimiter)\n",
    "    \n",
    "    joined_string = ' '.join(words)\n",
    "\n",
    "    return words, joined_string\n",
    "\n",
    "str = \"this is pranay\"\n",
    "delimiter = \" \"\n",
    "\n",
    "split_and_join(str, delimiter)\n"
   ]
  },
  {
   "cell_type": "markdown",
   "metadata": {},
   "source": [
    "4. Write a Python to check if a given string is binary string or not?"
   ]
  },
  {
   "cell_type": "code",
   "execution_count": 8,
   "metadata": {},
   "outputs": [
    {
     "name": "stdout",
     "output_type": "stream",
     "text": [
      "String  is not a binary string\n"
     ]
    }
   ],
   "source": [
    "#took idea from internet\n",
    "\n",
    "def is_binary_string(str):\n",
    "    # Check if every character in the string is either '0' or '1'\n",
    "    for i in str:\n",
    "        if i != '0' and i != '1':\n",
    "            return False\n",
    "    return True\n",
    "\n",
    "s1 = \"101010\"\n",
    "s2 = \"102010\"\n",
    "\n",
    "if is_binary_string(s2):\n",
    "    print(\"String  is a binary string\")\n",
    "else:\n",
    "    print(\"String  is not a binary string\")\n",
    "\n"
   ]
  },
  {
   "cell_type": "markdown",
   "metadata": {},
   "source": [
    "5. Write a Python program to find uncommon words from two Strings?"
   ]
  },
  {
   "cell_type": "code",
   "execution_count": 10,
   "metadata": {},
   "outputs": [
    {
     "data": {
      "text/plain": [
       "['world', 'word']"
      ]
     },
     "execution_count": 10,
     "metadata": {},
     "output_type": "execute_result"
    }
   ],
   "source": [
    "def uncommon_word(s1,s2):\n",
    "    uw = []\n",
    "    for i in s1.split():\n",
    "        if i not in s2:\n",
    "            uw.append(i)\n",
    "    for i in s2.split():\n",
    "        if i not in s1:\n",
    "            uw.append(i)\n",
    "    return uw\n",
    "\n",
    "s1 = \"hello world\"\n",
    "s2 = \"hello word\"\n",
    "\n",
    "uncommon_word(s1,s2)"
   ]
  },
  {
   "cell_type": "markdown",
   "metadata": {},
   "source": [
    "6. Write a Python to find all duplicate characters in string?"
   ]
  },
  {
   "cell_type": "code",
   "execution_count": 13,
   "metadata": {},
   "outputs": [
    {
     "data": {
      "text/plain": [
       "{'hello', 'you'}"
      ]
     },
     "execution_count": 13,
     "metadata": {},
     "output_type": "execute_result"
    }
   ],
   "source": [
    "def duplicate(s1,s2):\n",
    "    dup = []\n",
    "    for i in s1.split():\n",
    "        if i in s2:\n",
    "            dup.append(i)\n",
    "    for i in s2.split():\n",
    "        if i  in s1:\n",
    "            dup.append(i)\n",
    "    return set(dup)\n",
    "\n",
    "s1 = \"hello world you\"\n",
    "s2 = \"hello word you\"\n",
    "\n",
    "duplicate(s1,s2)\n",
    "    "
   ]
  },
  {
   "cell_type": "markdown",
   "metadata": {},
   "source": [
    "7. Write a Python Program to check if a string contains any special character?"
   ]
  },
  {
   "cell_type": "code",
   "execution_count": 20,
   "metadata": {},
   "outputs": [
    {
     "data": {
      "text/plain": [
       "False"
      ]
     },
     "execution_count": 20,
     "metadata": {},
     "output_type": "execute_result"
    }
   ],
   "source": [
    "import re\n",
    "def is_special_char(s):\n",
    "    sp_char = re.compile(r'[^A-Za-z0-9]')\n",
    "    if sp_char.search(s):\n",
    "        return True\n",
    "    else:\n",
    "        return False\n",
    "\n",
    "\n",
    "s = 'this'\n",
    "is_special_char(s)"
   ]
  },
  {
   "cell_type": "code",
   "execution_count": null,
   "metadata": {},
   "outputs": [],
   "source": []
  }
 ],
 "metadata": {
  "kernelspec": {
   "display_name": "Python 3",
   "language": "python",
   "name": "python3"
  },
  "language_info": {
   "codemirror_mode": {
    "name": "ipython",
    "version": 3
   },
   "file_extension": ".py",
   "mimetype": "text/x-python",
   "name": "python",
   "nbconvert_exporter": "python",
   "pygments_lexer": "ipython3",
   "version": "3.9.1"
  }
 },
 "nbformat": 4,
 "nbformat_minor": 4
}
