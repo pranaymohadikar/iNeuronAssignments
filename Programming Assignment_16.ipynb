{
 "cells": [
  {
   "cell_type": "markdown",
   "id": "6e01a845",
   "metadata": {},
   "source": [
    "Write a function that stutters a word as if someone is struggling to read it. The\n",
    "first two letters are repeated twice with an ellipsis ... and space after each, and then the\n",
    "word is pronounced with a question mark ?.\n",
    "Examples\n",
    "stutter(&quot;incredible&quot;) ➞ &quot;in... in... incredible?&quot;\n",
    "stutter(&quot;enthusiastic&quot;) ➞ &quot;en... en... enthusiastic?&quot;\n",
    "stutter(&quot;outstanding&quot;) ➞ &quot;ou... ou... outstanding?&quot;\n",
    "\n",
    "Hint :- Assume all input is in lower case and at least two characters long."
   ]
  },
  {
   "cell_type": "code",
   "execution_count": 2,
   "id": "c5e8eb9f",
   "metadata": {},
   "outputs": [
    {
     "name": "stdout",
     "output_type": "stream",
     "text": [
      "vi... vi... vinay?\n"
     ]
    }
   ],
   "source": [
    "def stutter(str):\n",
    "    if len(str) < 2:\n",
    "        return word\n",
    "    else:\n",
    "        return f'{str[:2]}... {str[:2]}... {str}?'\n",
    "\n",
    "print(stutter('vinay'))"
   ]
  },
  {
   "cell_type": "markdown",
   "id": "b91ca2d8",
   "metadata": {},
   "source": [
    "Create a function that takes an angle in radians and returns the corresponding\n",
    "angle in degrees rounded to one decimal place.\n",
    "Examples\n",
    "radians_to_degrees(1) ➞ 57.3\n",
    "radians_to_degrees(20) ➞ 1145.9\n",
    "radians_to_degrees(50) ➞ 2864.8"
   ]
  },
  {
   "cell_type": "code",
   "execution_count": 6,
   "id": "998fd9b4",
   "metadata": {},
   "outputs": [
    {
     "name": "stdout",
     "output_type": "stream",
     "text": [
      "2866.2\n"
     ]
    }
   ],
   "source": [
    "def rad_to_deg(rad):\n",
    "    deg = rad*(180/3.14)\n",
    "    deg = round(deg,1)\n",
    "    return deg\n",
    "\n",
    "print(rad_to_deg(50))"
   ]
  },
  {
   "cell_type": "markdown",
   "id": "68e22160",
   "metadata": {},
   "source": [
    "In this challenge, establish if a given integer num is a Curzon number. If 1 plus\n",
    "2 elevated to num is exactly divisible by 1 plus 2 multiplied by num, then num is a Curzon\n",
    "number.\n",
    "Given a non-negative integer num, implement a function that returns True if num is a Curzon\n",
    "number, or False otherwise."
   ]
  },
  {
   "cell_type": "code",
   "execution_count": 10,
   "id": "48d7d2b7",
   "metadata": {},
   "outputs": [
    {
     "name": "stdout",
     "output_type": "stream",
     "text": [
      "True\n"
     ]
    }
   ],
   "source": [
    "def is_curzon_num(n):\n",
    "    if n <0:\n",
    "        return False\n",
    "    else:\n",
    "        return (1 + 2 ** n) % (1 + 2 * n) == 0\n",
    "\n",
    "print(is_curzon_num(14))"
   ]
  },
  {
   "cell_type": "markdown",
   "id": "667838eb",
   "metadata": {},
   "source": [
    "area of hexagon"
   ]
  },
  {
   "cell_type": "code",
   "execution_count": 12,
   "id": "8bedc26f",
   "metadata": {},
   "outputs": [
    {
     "name": "stdout",
     "output_type": "stream",
     "text": [
      "259.80762113533154\n"
     ]
    }
   ],
   "source": [
    "import math\n",
    "\n",
    "def area_of_hexagon(side_length):\n",
    "  \"\"\"Calculates the area of a hexagon with side length side_length.\"\"\"\n",
    "  apothem = side_length * math.sqrt(3) / 2\n",
    "  area = 6 * apothem * side_length / 2\n",
    "  return area\n",
    "\n",
    "\n",
    "if __name__ == \"__main__\":\n",
    "  side_length = 10\n",
    "  print(area_of_hexagon(side_length))\n"
   ]
  },
  {
   "cell_type": "code",
   "execution_count": 13,
   "id": "5c6043f7",
   "metadata": {},
   "outputs": [
    {
     "data": {
      "text/plain": [
       "2.598076211353316"
      ]
     },
     "execution_count": 13,
     "metadata": {},
     "output_type": "execute_result"
    }
   ],
   "source": [
    "import math\n",
    "def area_hexagon(s):\n",
    "    area = (3 * math.sqrt(3) * s * s)/2\n",
    "    return area\n",
    "\n",
    "area_hexagon(1)"
   ]
  },
  {
   "cell_type": "code",
   "execution_count": null,
   "id": "77b4e396",
   "metadata": {},
   "outputs": [],
   "source": []
  }
 ],
 "metadata": {
  "kernelspec": {
   "display_name": "Python 3 (ipykernel)",
   "language": "python",
   "name": "python3"
  },
  "language_info": {
   "codemirror_mode": {
    "name": "ipython",
    "version": 3
   },
   "file_extension": ".py",
   "mimetype": "text/x-python",
   "name": "python",
   "nbconvert_exporter": "python",
   "pygments_lexer": "ipython3",
   "version": "3.9.13"
  }
 },
 "nbformat": 4,
 "nbformat_minor": 5
}
