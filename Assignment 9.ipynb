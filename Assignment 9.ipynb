{
 "cells": [
  {
   "cell_type": "markdown",
   "id": "53a672e7",
   "metadata": {},
   "source": [
    "1. To what does a relative path refer?"
   ]
  },
  {
   "cell_type": "markdown",
   "id": "510b1612",
   "metadata": {},
   "source": [
    "Ans.\n",
    "CWD + Relative directory = Absolute directory\n",
    "\n",
    "/home/pranay--> CWD , /home/pranay/docs/file.txt--> Absolute directory\n",
    "/docs/file.txt--> relative directory"
   ]
  },
  {
   "cell_type": "markdown",
   "id": "8615899c",
   "metadata": {},
   "source": [
    "2. What does an absolute path start with your operating system?\n"
   ]
  },
  {
   "cell_type": "markdown",
   "id": "3875e323",
   "metadata": {},
   "source": [
    "Ans. C:"
   ]
  },
  {
   "cell_type": "markdown",
   "id": "768ae933",
   "metadata": {},
   "source": [
    "3. What do the functions os.getcwd() and os.chdir() do?"
   ]
  },
  {
   "cell_type": "markdown",
   "id": "968bae1e",
   "metadata": {},
   "source": [
    "Ans. \n",
    "os.getcwd()--> get current working directory\n",
    "os.chdir()--> change directory"
   ]
  },
  {
   "cell_type": "markdown",
   "id": "79790509",
   "metadata": {},
   "source": [
    "4. What are the . and .. folders?"
   ]
  },
  {
   "cell_type": "markdown",
   "id": "59a750aa",
   "metadata": {},
   "source": [
    "Ans.\n",
    ".-->CWD\n",
    "..-->parent directory\n",
    "\n",
    "/home/docs/file.txt\n",
    "\n",
    "CWD-->docs\n",
    "parent directory-->home"
   ]
  },
  {
   "cell_type": "markdown",
   "id": "651a1400",
   "metadata": {},
   "source": [
    "5. In C:\\bacon\\eggs\\spam.txt, which part is the dir name, and which part is the base name?"
   ]
  },
  {
   "cell_type": "markdown",
   "id": "84270b4b",
   "metadata": {},
   "source": [
    "Ans.\n",
    "Dir--> \\bacon\\eggs\n",
    "base_name-->spam.txt"
   ]
  },
  {
   "cell_type": "markdown",
   "id": "200a3c70",
   "metadata": {},
   "source": [
    "6. What are the three “mode” arguments that can be passed to the open() function?"
   ]
  },
  {
   "cell_type": "markdown",
   "id": "d5836ef0",
   "metadata": {},
   "source": [
    "ANS.\n",
    "\n",
    "r--> read\n",
    "w--> write\n",
    "a-->append"
   ]
  },
  {
   "cell_type": "markdown",
   "id": "b6fe76ce",
   "metadata": {},
   "source": [
    "7. What happens if an existing file is opened in write mode?"
   ]
  },
  {
   "cell_type": "markdown",
   "id": "75fdae66",
   "metadata": {},
   "source": [
    "Ans. If an existing file is opened in write mode, the file's contents are erased and the file is considered as a new empty file. "
   ]
  },
  {
   "cell_type": "markdown",
   "id": "ece03787",
   "metadata": {},
   "source": [
    "9. What data structure does a shelf value resemble?"
   ]
  },
  {
   "cell_type": "markdown",
   "id": "44d21b1e",
   "metadata": {},
   "source": [
    "key and value pair"
   ]
  },
  {
   "cell_type": "code",
   "execution_count": null,
   "id": "92dde117",
   "metadata": {},
   "outputs": [],
   "source": []
  }
 ],
 "metadata": {
  "kernelspec": {
   "display_name": "Python 3 (ipykernel)",
   "language": "python",
   "name": "python3"
  },
  "language_info": {
   "codemirror_mode": {
    "name": "ipython",
    "version": 3
   },
   "file_extension": ".py",
   "mimetype": "text/x-python",
   "name": "python",
   "nbconvert_exporter": "python",
   "pygments_lexer": "ipython3",
   "version": "3.9.13"
  }
 },
 "nbformat": 4,
 "nbformat_minor": 5
}
