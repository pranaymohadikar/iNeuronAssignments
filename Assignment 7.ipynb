{
 "cells": [
  {
   "cell_type": "markdown",
   "id": "e50853d1",
   "metadata": {},
   "source": [
    "1. What is the name of the feature responsible for generating Regex objects?"
   ]
  },
  {
   "cell_type": "markdown",
   "id": "d3959c41",
   "metadata": {},
   "source": [
    "Ans. \"re\" module is responsible for this"
   ]
  },
  {
   "cell_type": "markdown",
   "id": "c69a542f",
   "metadata": {},
   "source": [
    "2. Why do raw strings often appear in Regex objects?"
   ]
  },
  {
   "cell_type": "markdown",
   "id": "03cd31c1",
   "metadata": {},
   "source": [
    "Ans. these can be used to make expressions more easily without any backslsh character.\n",
    "pattern = \"C:\\\\\\\\Windows\" --> without raw string\n",
    "pattern = r\"C:\\Windows\" -->with raw string"
   ]
  },
  {
   "cell_type": "markdown",
   "id": "6877a28e",
   "metadata": {},
   "source": [
    "3. What is the return value of the search() method?"
   ]
  },
  {
   "cell_type": "markdown",
   "id": "da2b0255",
   "metadata": {},
   "source": [
    "Ans. Return value of search menthod in regex is match object if it is found in the string."
   ]
  },
  {
   "cell_type": "markdown",
   "id": "f3b287de",
   "metadata": {},
   "source": [
    "4. From a Match item, how do you get the actual strings that match the pattern?"
   ]
  },
  {
   "cell_type": "markdown",
   "id": "3c86bb2c",
   "metadata": {},
   "source": [
    "To get the actual strings that match the pattern from a Match object in Python, \n",
    "you can use the group() method. The group() method returns the actual substring that matched the pattern."
   ]
  },
  {
   "cell_type": "code",
   "execution_count": 3,
   "id": "59f298b9",
   "metadata": {},
   "outputs": [
    {
     "name": "stdout",
     "output_type": "stream",
     "text": [
      "no match\n"
     ]
    }
   ],
   "source": [
    "import re\n",
    "a = re.search(r\"dog\",r\"cat is god\")\n",
    "if a:\n",
    "    print(a.group())\n",
    "else:\n",
    "    print(\"no match\")"
   ]
  },
  {
   "cell_type": "markdown",
   "id": "aa2fec9f",
   "metadata": {},
   "source": [
    "5. In the regex which created from the r'(\\d\\d\\d)-(\\d\\d\\d-\\d\\d\\d\\d)', what does group zero cover? Group 2? Group 1?"
   ]
  },
  {
   "cell_type": "markdown",
   "id": "21644716",
   "metadata": {},
   "source": [
    "Ans. group zero --> \\d\\d\\d-\\d\\d\\d-\\d\\d\\d\\d\n",
    "group 1 --> \\d\\d\\d\n",
    "group 2 --> \\d\\d\\d-\\d\\d\\d\\d"
   ]
  },
  {
   "cell_type": "code",
   "execution_count": 14,
   "id": "1cf8cb23",
   "metadata": {},
   "outputs": [
    {
     "name": "stdout",
     "output_type": "stream",
     "text": [
      "123-456-7890\n",
      "123\n",
      "456-7890\n"
     ]
    }
   ],
   "source": [
    "import re\n",
    "\n",
    "p =  r'(\\d\\d\\d)-(\\d\\d\\d-\\d\\d\\d\\d)'\n",
    "t = '123-456-7890'\n",
    "\n",
    "a = re.search(p,t)\n",
    "print(a.group(0))\n",
    "print(a.group(1))\n",
    "print(a.group(2))\n",
    "\n"
   ]
  },
  {
   "cell_type": "markdown",
   "id": "df9c9f81",
   "metadata": {},
   "source": [
    "6. In standard expression syntax, parentheses and intervals have distinct meanings. How can you tell a regex that you want it to fit real parentheses and periods?"
   ]
  },
  {
   "cell_type": "markdown",
   "id": "a9ac8032",
   "metadata": {},
   "source": [
    "Ans. for this use are using the \\. For paranthesis \\(\\) and for intervals \\."
   ]
  },
  {
   "cell_type": "code",
   "execution_count": 1,
   "id": "e4caf543",
   "metadata": {},
   "outputs": [
    {
     "name": "stdout",
     "output_type": "stream",
     "text": [
      "(123)-456-7890\n"
     ]
    }
   ],
   "source": [
    "import re\n",
    "\n",
    "p =  r'\\(\\d\\d\\d\\)-\\d\\d\\d-\\d\\d\\d\\d'\n",
    "t = '(123)-456-7890'\n",
    "\n",
    "a = re.search(p,t)\n",
    "print(a.group(0))\n"
   ]
  },
  {
   "cell_type": "markdown",
   "id": "0a6867e6",
   "metadata": {},
   "source": [
    "7. The findall() method returns a string list or a list of string tuples. What causes it to return one of the two options?"
   ]
  },
  {
   "cell_type": "code",
   "execution_count": 5,
   "id": "e5e5a796",
   "metadata": {},
   "outputs": [
    {
     "name": "stdout",
     "output_type": "stream",
     "text": [
      "[('(123)', '456-7890')]\n",
      "['(123)-456-7890']\n"
     ]
    }
   ],
   "source": [
    "import re\n",
    "\n",
    "p =  r'(\\(\\d\\d\\d\\))-(\\d\\d\\d-\\d\\d\\d\\d)'\n",
    "t = '(123)-456-7890'\n",
    "q = r'\\(\\d\\d\\d\\)-\\d\\d\\d-\\d\\d\\d\\d'\n",
    "a = re.findall(p,t)\n",
    "b = re.findall(q,t)\n",
    "print(a)\n",
    "print(b)\n"
   ]
  },
  {
   "cell_type": "markdown",
   "id": "2ea1bc75",
   "metadata": {},
   "source": [
    "8. In standard expressions, what does the | character mean?"
   ]
  },
  {
   "cell_type": "markdown",
   "id": "f00ecd1f",
   "metadata": {},
   "source": [
    "Ans. OR"
   ]
  },
  {
   "cell_type": "markdown",
   "id": "6098d428",
   "metadata": {},
   "source": [
    "9. In regular expressions, what does the ? character stand for?"
   ]
  },
  {
   "cell_type": "markdown",
   "id": "a69e5e48",
   "metadata": {},
   "source": [
    "Ans. The ? character can be used to denote an optional element in the regular expression pattern. \n",
    "For example, the regular expression pattern colou?r matches both \"color\" and \"colour\",\n",
    "where the u character is optional."
   ]
  },
  {
   "cell_type": "markdown",
   "id": "2a6105a3",
   "metadata": {},
   "source": [
    "10.In regular expressions, what is the difference between the + and * characters?"
   ]
  },
  {
   "cell_type": "markdown",
   "id": "c7abc448",
   "metadata": {},
   "source": [
    "Ans. The difference between the + and * characters is that the + character requires at least one occurrence of the preceding element, while the * character allows for zero or more occurrences."
   ]
  },
  {
   "cell_type": "markdown",
   "id": "1da6ad69",
   "metadata": {},
   "source": [
    "pattern ab+ matches an \"a\" followed by one or more \"b\" characters, such as \"ab\", \"abb\", \"abbb\", and so on, but not \"a\" alone \n",
    "pattern ab* matches an \"a\" followed by zero or more \"b\" characters, such as \"a\", \"ab\", \"abb\", \"abbb\", and so on"
   ]
  },
  {
   "cell_type": "markdown",
   "id": "b64664e7",
   "metadata": {},
   "source": [
    "11. What is the difference between {4} and {4,5} in regular expression?"
   ]
  },
  {
   "cell_type": "markdown",
   "id": "d45570f6",
   "metadata": {},
   "source": [
    "Ans. {4} specifies exactly 4 occurrences of the preceding element. For example, the regular expression pattern a{4} matches exactly 4 \"a\" characters\n",
    "{4,5} provides min and max value of occurrences"
   ]
  },
  {
   "cell_type": "markdown",
   "id": "ef1ba2b6",
   "metadata": {},
   "source": [
    "12. What do you mean by the \\d, \\w, and \\s shorthand character classes signify in regular expressions?"
   ]
  },
  {
   "cell_type": "markdown",
   "id": "deb61fd2",
   "metadata": {},
   "source": [
    "Ans. \\d - matches any digit character (0-9).\n",
    "\\w - matches any word character [a-zA-z0-9]\n",
    "\\s - matches any whitespace character"
   ]
  },
  {
   "cell_type": "markdown",
   "id": "7ae79099",
   "metadata": {},
   "source": [
    "13. What do means by \\D, \\W, and \\S shorthand character classes signify in regular expressions?"
   ]
  },
  {
   "cell_type": "markdown",
   "id": "1e542321",
   "metadata": {},
   "source": [
    "Ans. \\D - matches any character that is not a digit [^0-9].\n",
    "\\W - matches any character that is not a word character[^a-zA-Z0-9]\n",
    "\\S - matches any character that is not whitespace"
   ]
  },
  {
   "cell_type": "markdown",
   "id": "c38a4b25",
   "metadata": {},
   "source": [
    "What is the difference between '.*?' and '.*?'"
   ]
  },
  {
   "cell_type": "markdown",
   "id": "b3716163",
   "metadata": {},
   "source": [
    "Ans. \".*\" it matches the longest possible sequence of characters that satisfies the pattern and .*? can be more appropriate when you want to match the smallest possible sequence of characters"
   ]
  },
  {
   "cell_type": "markdown",
   "id": "0447d081",
   "metadata": {},
   "source": [
    "15. What is the syntax for matching both numbers and lowercase letters with a character class?"
   ]
  },
  {
   "cell_type": "markdown",
   "id": "d8a309d0",
   "metadata": {},
   "source": [
    "Ans. [a-z0-9]"
   ]
  },
  {
   "cell_type": "markdown",
   "id": "c534101a",
   "metadata": {},
   "source": [
    "16. What is the procedure for making a normal expression in regax case insensitive?"
   ]
  },
  {
   "cell_type": "markdown",
   "id": "6f9c4334",
   "metadata": {},
   "source": [
    "Ans. re.ignorecase"
   ]
  },
  {
   "cell_type": "markdown",
   "id": "600a83f3",
   "metadata": {},
   "source": [
    "17. What does the . character normally match? What does it match if re.DOTALL is passed as 2nd argument in re.compile()?"
   ]
  },
  {
   "cell_type": "markdown",
   "id": "837a3980",
   "metadata": {},
   "source": [
    "Ans. The . character matches any character except for a newline character but re.dotall as an argument in re.compile consider the newline character also."
   ]
  },
  {
   "cell_type": "markdown",
   "id": "ac854f5a",
   "metadata": {},
   "source": [
    "18. If numReg = re.compile(r'\\d+'), what will numRegex.sub('X', '11 drummers, 10 pipers, five rings, 4 hen') return?"
   ]
  },
  {
   "cell_type": "code",
   "execution_count": 7,
   "id": "2b1fdea4",
   "metadata": {},
   "outputs": [
    {
     "name": "stdout",
     "output_type": "stream",
     "text": [
      "X drummers, X pipers, five rings, X hen\n"
     ]
    }
   ],
   "source": [
    "import re\n",
    "numReg = re.compile(r'\\d+')\n",
    "print(numReg.sub('X','11 drummers, 10 pipers, five rings, 4 hen'))"
   ]
  },
  {
   "cell_type": "markdown",
   "id": "f59ebb1c",
   "metadata": {},
   "source": [
    "add x with the string contains digit"
   ]
  },
  {
   "cell_type": "markdown",
   "id": "86f19048",
   "metadata": {},
   "source": [
    "19. What does passing re.VERBOSE as the 2nd argument to re.compile() allow to do?"
   ]
  },
  {
   "cell_type": "markdown",
   "id": "48486e2f",
   "metadata": {},
   "source": [
    " Ans. Allows you to write regular expressions in a more readable and structured way."
   ]
  },
  {
   "cell_type": "markdown",
   "id": "43f9498f",
   "metadata": {},
   "source": [
    "pattern = r'^[a-z0-9._%+-]+@[a-z0-9.-]+\\.[a-z]{2,}$' and \n",
    "by using re.verbose\n",
    "pattern = r'''\n",
    "    ^                   # start of string\n",
    "    [a-z0-9._%+-]+      # username\n",
    "    @                   # @ symbol\n",
    "    [a-z0-9.-]+         # domain name\n",
    "    \\.                  # dot\n",
    "    [a-z]{2,}           # top-level domain\n",
    "    $                   # end of string\n",
    "    '''"
   ]
  },
  {
   "cell_type": "markdown",
   "id": "8f09fcd1",
   "metadata": {},
   "source": [
    "20. How would you write a regex that match a number with comma for every three digits? It must match the given following:\n",
    "'42'\n",
    "'1,234'\n",
    "'6,368,745'\n",
    "but not the following:\n",
    "'12,34,567' (which has only two digits between the commas)\n",
    "'1234' (which lacks commas)\n"
   ]
  },
  {
   "cell_type": "code",
   "execution_count": 12,
   "id": "b35cc7ce",
   "metadata": {},
   "outputs": [
    {
     "name": "stdout",
     "output_type": "stream",
     "text": [
      "Output: 42 --> <re.Match object; span=(0, 2), match='42'>\n",
      "Output: 1,234 --> <re.Match object; span=(0, 5), match='1,234'>\n",
      "Output: 6,368,745 --> <re.Match object; span=(0, 9), match='6,368,745'>\n",
      "Output: 12,34,567 --> None\n",
      "Output: 1234 --> None\n"
     ]
    }
   ],
   "source": [
    "import re\n",
    "p = r'^\\d{1,3}(,\\d{3})*$'\n",
    "b = re.compile(p)\n",
    "for a in ['42','1,234', '6,368,745','12,34,567','1234']:\n",
    "    print('Output:',a, '-->', b.search(a))"
   ]
  },
  {
   "cell_type": "markdown",
   "id": "4ea9af95",
   "metadata": {},
   "source": [
    "21. How would you write a regex that matches the full name of someone whose last name is Watanabe? You can assume that the first name that comes before it will always be one word that begins with a capital letter. The regex must match the following:\n",
    "'Haruto Watanabe'\n",
    "'Alice Watanabe'\n",
    "'RoboCop Watanabe'\n",
    "but not the following:\n",
    "'haruto Watanabe' (where the first name is not capitalized)\n",
    "'Mr. Watanabe' (where the preceding word has a nonletter character)\n",
    "'Watanabe' (which has no first name)\n",
    "'Haruto watanabe' (where Watanabe is not capitalized)\n"
   ]
  },
  {
   "cell_type": "code",
   "execution_count": 13,
   "id": "203328ea",
   "metadata": {},
   "outputs": [
    {
     "name": "stdout",
     "output_type": "stream",
     "text": [
      "Output:  Haruto Watanabe -> <re.Match object; span=(0, 15), match='Haruto Watanabe'>\n",
      "Output:  Alice Watanabe -> <re.Match object; span=(0, 14), match='Alice Watanabe'>\n",
      "Output:  RoboCop Watanabe -> <re.Match object; span=(4, 16), match='Cop Watanabe'>\n",
      "Output:  haruto Watanabe -> None\n",
      "Output:  Mr. Watanabe -> None\n",
      "Output:  Watanabe -> None\n",
      "Output:  Haruto watanabe -> None\n"
     ]
    }
   ],
   "source": [
    "import re\n",
    "p = r'[A-Z]{1}[a-z]*\\sWatanabe'\n",
    "c = re.compile(p)\n",
    "for y in ['Haruto Watanabe','Alice Watanabe','RoboCop Watanabe','haruto Watanabe','Mr. Watanabe','Watanabe','Haruto watanabe']:\n",
    "    print('Output: ',y,'->',c.search(y))"
   ]
  },
  {
   "cell_type": "markdown",
   "id": "9d64d535",
   "metadata": {},
   "source": [
    "22. How would you write a regex that matches a sentence where the first word is either Alice, Bob, or Carol; the second word is either eats, pets, or throws; the third word is apples, cats, or baseballs; and the sentence ends with a period? This regex should be case-insensitive. It must match the following:\n",
    "'Alice eats apples.'\n",
    "'Bob pets cats.'\n",
    "'Carol throws baseballs.'\n",
    "'Alice throws Apples.'\n",
    "'BOB EATS CATS.'\n",
    "but not the following:\n",
    "'RoboCop eats apples.'\n",
    "'ALICE THROWS FOOTBALLS.'\n",
    "'Carol eats 7 cats.'\n"
   ]
  },
  {
   "cell_type": "code",
   "execution_count": 15,
   "id": "cc1b721b",
   "metadata": {},
   "outputs": [
    {
     "name": "stdout",
     "output_type": "stream",
     "text": [
      "Output:  Alice eats apples. -> <re.Match object; span=(0, 18), match='Alice eats apples.'>\n",
      "Output:  Bob pets cats. -> <re.Match object; span=(0, 14), match='Bob pets cats.'>\n",
      "Output:  Carol throws baseballs. -> <re.Match object; span=(0, 23), match='Carol throws baseballs.'>\n",
      "Output:  Alice throws Apples. -> <re.Match object; span=(0, 20), match='Alice throws Apples.'>\n",
      "Output:  BOB EATS CATS. -> <re.Match object; span=(0, 14), match='BOB EATS CATS.'>\n",
      "Output:  RoboCop eats apples. -> None\n",
      "Output:  ALICE THROWS FOOTBALLS. -> None\n",
      "Output:  Carol eats 7 cats. -> None\n"
     ]
    }
   ],
   "source": [
    "import re\n",
    "p = r'(Alice|Bob|Carol)\\s(eats|pets|throws)\\s(apples|cats|baseballs)\\.'\n",
    "d = re.compile(p, re.IGNORECASE)\n",
    "for z in ['Alice eats apples.','Bob pets cats.','Carol throws baseballs.','Alice throws Apples.','BOB EATS CATS.','RoboCop eats apples.'\n",
    ",'ALICE THROWS FOOTBALLS.','Carol eats 7 cats.']:\n",
    "    print('Output: ',z,'->',d.search(z))"
   ]
  },
  {
   "cell_type": "code",
   "execution_count": null,
   "id": "96cb22cb",
   "metadata": {},
   "outputs": [],
   "source": []
  }
 ],
 "metadata": {
  "kernelspec": {
   "display_name": "Python 3 (ipykernel)",
   "language": "python",
   "name": "python3"
  },
  "language_info": {
   "codemirror_mode": {
    "name": "ipython",
    "version": 3
   },
   "file_extension": ".py",
   "mimetype": "text/x-python",
   "name": "python",
   "nbconvert_exporter": "python",
   "pygments_lexer": "ipython3",
   "version": "3.9.13"
  }
 },
 "nbformat": 4,
 "nbformat_minor": 5
}
