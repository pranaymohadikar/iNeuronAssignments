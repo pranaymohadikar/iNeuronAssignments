{
 "cells": [
  {
   "cell_type": "markdown",
   "metadata": {},
   "source": [
    "1. Write a Python program to Extract Unique values dictionary values?"
   ]
  },
  {
   "cell_type": "code",
   "execution_count": 4,
   "metadata": {},
   "outputs": [
    {
     "data": {
      "text/plain": [
       "[1, 2, 3, 4]"
      ]
     },
     "execution_count": 4,
     "metadata": {},
     "output_type": "execute_result"
    }
   ],
   "source": [
    "def extract_unique_value(d):\n",
    "    val = []\n",
    "    for i in d.values():\n",
    "        if i not in val:\n",
    "            val.append(i)\n",
    "    return val\n",
    "\n",
    "d = {'a': 1, 'b': 2, 'c': 3, 'd': 3, 'e': 4}\n",
    "extract_unique_value(d)"
   ]
  },
  {
   "cell_type": "markdown",
   "metadata": {},
   "source": [
    "2. Write a Python program to find the sum of all items in a dictionary?"
   ]
  },
  {
   "cell_type": "code",
   "execution_count": 10,
   "metadata": {},
   "outputs": [
    {
     "data": {
      "text/plain": [
       "10"
      ]
     },
     "execution_count": 10,
     "metadata": {},
     "output_type": "execute_result"
    }
   ],
   "source": [
    "def extract_unique_value(d):\n",
    "    return sum(d.values())\n",
    "\n",
    "d = {'a': 1, 'b': 2, 'c': 3, 'd': 3, 'e': 1}\n",
    "extract_unique_value(d)"
   ]
  },
  {
   "cell_type": "markdown",
   "metadata": {},
   "source": [
    "3. Write a Python program to Merging two Dictionaries?m"
   ]
  },
  {
   "cell_type": "code",
   "execution_count": 15,
   "metadata": {},
   "outputs": [
    {
     "name": "stdout",
     "output_type": "stream",
     "text": [
      "{'a': 1, 'b': 2, 'c': 1, 'd': 2}\n"
     ]
    }
   ],
   "source": [
    "def merging(d1,d2):\n",
    "    return (d1.update(d2))\n",
    "\n",
    "d1 = {'a':1,'b':2}\n",
    "d2 = {'c':1,'d':2}\n",
    "\n",
    "merging(d1,d2)\n",
    "print(d1)"
   ]
  },
  {
   "cell_type": "markdown",
   "metadata": {},
   "source": [
    "4. Write a Python program to convert key-values list to flat dictionary?"
   ]
  },
  {
   "cell_type": "code",
   "execution_count": 16,
   "metadata": {},
   "outputs": [
    {
     "data": {
      "text/plain": [
       "{'a': 1, 'b': 2, 'c': 3}"
      ]
     },
     "execution_count": 16,
     "metadata": {},
     "output_type": "execute_result"
    }
   ],
   "source": [
    "def convert_to_flat_dict(list):\n",
    "    flat_dict = {}\n",
    "    for i, j in list:\n",
    "        flat_dict[i] = j\n",
    "    return flat_dict\n",
    "\n",
    "list = [('a', 1), ('b', 2), ('c', 3)]\n",
    "\n",
    "\n",
    "convert_to_flat_dict(list)"
   ]
  },
  {
   "cell_type": "markdown",
   "metadata": {},
   "source": [
    "5. Write a Python program to insertion at the beginning in OrderedDict?"
   ]
  },
  {
   "cell_type": "code",
   "execution_count": 22,
   "metadata": {},
   "outputs": [
    {
     "data": {
      "text/plain": [
       "OrderedDict([('x', 10), ('a', 1), ('b', 2), ('c', 3)])"
      ]
     },
     "execution_count": 22,
     "metadata": {},
     "output_type": "execute_result"
    }
   ],
   "source": [
    "from collections import OrderedDict\n",
    "\n",
    "def insert_at_beginning(od, key, value):\n",
    "    \n",
    "    new_od = OrderedDict()\n",
    "    new_od[key] = value\n",
    "    new_od.update(od)\n",
    "    return new_od\n",
    "\n",
    "od = [('a', 1), ('b', 2), ('c', 3)]\n",
    "key = 'x'\n",
    "value = 10\n",
    "insert_at_beginning(od, key, value)"
   ]
  },
  {
   "cell_type": "markdown",
   "metadata": {},
   "source": [
    "7. Write a Python program to sort Python Dictionaries by Key or Value?"
   ]
  },
  {
   "cell_type": "code",
   "execution_count": 27,
   "metadata": {},
   "outputs": [
    {
     "name": "stdout",
     "output_type": "stream",
     "text": [
      "{'a': 1, 'b': 25, 'c': 3}\n",
      "{'a': 1, 'c': 3, 'b': 25}\n"
     ]
    }
   ],
   "source": [
    "def sort_dict_by_key(d):\n",
    "    sorted_dict1 = dict(sorted(d.items()))\n",
    "    return sorted_dict1\n",
    "\n",
    "def sort_dict_by_value(d):\n",
    "    sorted_dict2 = dict(sorted(d.items(), key=lambda item: item[1]))\n",
    "    return sorted_dict2\n",
    "\n",
    "d = {'b': 25, 'a': 1, 'c': 3}\n",
    "\n",
    "print(sort_dict_by_key(d))\n",
    "print(sort_dict_by_value(d))"
   ]
  },
  {
   "cell_type": "code",
   "execution_count": null,
   "metadata": {},
   "outputs": [],
   "source": []
  }
 ],
 "metadata": {
  "kernelspec": {
   "display_name": "Python 3",
   "language": "python",
   "name": "python3"
  },
  "language_info": {
   "codemirror_mode": {
    "name": "ipython",
    "version": 3
   },
   "file_extension": ".py",
   "mimetype": "text/x-python",
   "name": "python",
   "nbconvert_exporter": "python",
   "pygments_lexer": "ipython3",
   "version": "3.9.1"
  }
 },
 "nbformat": 4,
 "nbformat_minor": 4
}
