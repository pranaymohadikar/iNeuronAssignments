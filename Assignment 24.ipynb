{
 "cells": [
  {
   "cell_type": "markdown",
   "metadata": {},
   "source": [
    "1. What is the relationship between def statements and lambda expressions ?"
   ]
  },
  {
   "cell_type": "markdown",
   "metadata": {},
   "source": [
    "Ans. def statements are used to define named functions with multiple lines of code, while lambda expressions are used to define anonymous functions with a single expression."
   ]
  },
  {
   "cell_type": "markdown",
   "metadata": {},
   "source": [
    "2. What is the benefit of lambda?"
   ]
  },
  {
   "cell_type": "markdown",
   "metadata": {},
   "source": [
    "Ans.  lambda expressions are used to define anonymous functions with a single expression."
   ]
  },
  {
   "cell_type": "markdown",
   "metadata": {},
   "source": [
    "3. Compare and contrast map, filter, and reduce."
   ]
  },
  {
   "cell_type": "markdown",
   "metadata": {},
   "source": [
    "Ans. \n",
    "\n",
    "map: Syntax--> map(function, iterable)\n",
    "\n",
    "Returns an iterator that applies the given function to each element in the iterable\n",
    "\n",
    "Example: map(lambda x: x**2, [1, 2, 3]) --> [1, 4, 9] \n",
    "\n",
    "filter: Syntax--> filter(function, iterable)\n",
    "\n",
    "Returns an iterator that filters elements from the iterable based on the given function's truthiness.\n",
    "\n",
    "Example: filter(lambda x: x % 2 == 0, [1, 2, 3, 4, 5]) --> [2, 4]\n",
    "\n",
    "reduce: Syntax: reduce(function, iterable[, initializer])\n",
    "\n",
    "Performs a cumulative computation on the elements of the iterable using the given function and returns a single result.\n",
    "\n",
    "Example: reduce(lambda x, y: x + y, [1, 2, 3, 4, 5]) --> 15"
   ]
  },
  {
   "cell_type": "markdown",
   "metadata": {},
   "source": [
    "4. What are function annotations, and how are they used?"
   ]
  },
  {
   "cell_type": "markdown",
   "metadata": {},
   "source": [
    "Ans. Function annotations provide a way to add additional information and hints to functions, enhancing code readability and documentation."
   ]
  },
  {
   "cell_type": "markdown",
   "metadata": {},
   "source": [
    "5. What are recursive functions, and how are they used?\n"
   ]
  },
  {
   "cell_type": "markdown",
   "metadata": {},
   "source": [
    "Ans. Recursive functions are functions that call themselves within their own definition. \n",
    "\n",
    "def x():\n",
    "\n",
    "    x()\n",
    "    \n",
    "x()\n",
    "\n",
    "finding factorial is an example for the above function\n"
   ]
  },
  {
   "cell_type": "markdown",
   "metadata": {},
   "source": [
    "6. What are some general design guidelines for coding functions?"
   ]
  },
  {
   "cell_type": "markdown",
   "metadata": {},
   "source": [
    "Ans.\n",
    "1. proper function name\n",
    "2. input parameters\n",
    "3. documented\n",
    "4. efficient"
   ]
  },
  {
   "cell_type": "markdown",
   "metadata": {},
   "source": [
    "7. Name three or more ways that functions can communicate results to a caller."
   ]
  },
  {
   "cell_type": "code",
   "execution_count": 3,
   "metadata": {},
   "outputs": [
    {
     "data": {
      "text/plain": [
       "5"
      ]
     },
     "execution_count": 3,
     "metadata": {},
     "output_type": "execute_result"
    }
   ],
   "source": [
    "#Ans. \n",
    "#1. return statement\n",
    "\n",
    "def add(a,b):\n",
    "    return (a+b)\n",
    "\n",
    "add(2,3)"
   ]
  },
  {
   "cell_type": "code",
   "execution_count": 12,
   "metadata": {},
   "outputs": [
    {
     "name": "stdout",
     "output_type": "stream",
     "text": [
      "1\n"
     ]
    }
   ],
   "source": [
    "#2. Global parameter\n",
    "\n",
    "a = 0\n",
    "\n",
    "def x():\n",
    "    global a\n",
    "    a += 1\n",
    "\n",
    "x()\n",
    "print(a)  "
   ]
  },
  {
   "cell_type": "code",
   "execution_count": null,
   "metadata": {},
   "outputs": [],
   "source": []
  }
 ],
 "metadata": {
  "kernelspec": {
   "display_name": "Python 3",
   "language": "python",
   "name": "python3"
  },
  "language_info": {
   "codemirror_mode": {
    "name": "ipython",
    "version": 3
   },
   "file_extension": ".py",
   "mimetype": "text/x-python",
   "name": "python",
   "nbconvert_exporter": "python",
   "pygments_lexer": "ipython3",
   "version": "3.9.1"
  }
 },
 "nbformat": 4,
 "nbformat_minor": 4
}
