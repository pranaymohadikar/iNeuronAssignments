{
 "cells": [
  {
   "cell_type": "markdown",
   "id": "fa466ebd",
   "metadata": {},
   "source": [
    "1. Why are functions advantageous to have in your programs?"
   ]
  },
  {
   "cell_type": "markdown",
   "id": "35c47503",
   "metadata": {},
   "source": [
    "Ans. Functions are advantageous in Python programs because they improve code organization, able to code reuse and increase readability"
   ]
  },
  {
   "cell_type": "markdown",
   "id": "4277f4ee",
   "metadata": {},
   "source": [
    "2. When does the code in a function run: when it's specified or when it's called?"
   ]
  },
  {
   "cell_type": "markdown",
   "id": "c9c0d15e",
   "metadata": {},
   "source": [
    "Ans. When it is called"
   ]
  },
  {
   "cell_type": "markdown",
   "id": "1c898337",
   "metadata": {},
   "source": [
    "3. What statement creates a function?"
   ]
  },
  {
   "cell_type": "markdown",
   "id": "5579eb95",
   "metadata": {},
   "source": [
    "Ans. def"
   ]
  },
  {
   "cell_type": "markdown",
   "id": "65f3138f",
   "metadata": {},
   "source": [
    "4. What is the difference between a function and a function call?"
   ]
  },
  {
   "cell_type": "markdown",
   "id": "00580047",
   "metadata": {},
   "source": [
    "Ans. Function is a part of program which make code shorter and easy to read. Fucntion call is process of calling a fucntion to complete particular task."
   ]
  },
  {
   "cell_type": "markdown",
   "id": "2d1b5a39",
   "metadata": {},
   "source": [
    "5. How many global scopes are there in a Python program? How many local scopes?"
   ]
  },
  {
   "cell_type": "markdown",
   "id": "af1713fb",
   "metadata": {},
   "source": [
    "Ans. 1 global scope and local scope is created as many times function is called"
   ]
  },
  {
   "cell_type": "markdown",
   "id": "79a9d1f5",
   "metadata": {},
   "source": [
    "6. What happens to variables in a local scope when the function call returns?"
   ]
  },
  {
   "cell_type": "code",
   "execution_count": 4,
   "id": "7bc7a324",
   "metadata": {},
   "outputs": [
    {
     "name": "stdout",
     "output_type": "stream",
     "text": [
      "5\n"
     ]
    }
   ],
   "source": [
    "def fun():\n",
    "    x = 5\n",
    "    print(x)\n",
    "\n",
    "fun()"
   ]
  },
  {
   "cell_type": "code",
   "execution_count": 5,
   "id": "eb2e932c",
   "metadata": {},
   "outputs": [
    {
     "name": "stdout",
     "output_type": "stream",
     "text": [
      "5\n"
     ]
    }
   ],
   "source": [
    "fun()"
   ]
  },
  {
   "cell_type": "code",
   "execution_count": 6,
   "id": "829b0165",
   "metadata": {},
   "outputs": [
    {
     "ename": "NameError",
     "evalue": "name 'x' is not defined",
     "output_type": "error",
     "traceback": [
      "\u001b[1;31m---------------------------------------------------------------------------\u001b[0m",
      "\u001b[1;31mNameError\u001b[0m                                 Traceback (most recent call last)",
      "\u001b[1;32m~\\AppData\\Local\\Temp\\ipykernel_19200\\32546335.py\u001b[0m in \u001b[0;36m<module>\u001b[1;34m\u001b[0m\n\u001b[1;32m----> 1\u001b[1;33m \u001b[0mx\u001b[0m\u001b[1;33m\u001b[0m\u001b[1;33m\u001b[0m\u001b[0m\n\u001b[0m",
      "\u001b[1;31mNameError\u001b[0m: name 'x' is not defined"
     ]
    }
   ],
   "source": [
    "x"
   ]
  },
  {
   "cell_type": "markdown",
   "id": "df230abd",
   "metadata": {},
   "source": [
    "Ans When a function call returns in Python, the local scope created by the function is destroyed. above is the example"
   ]
  },
  {
   "cell_type": "markdown",
   "id": "9bf1c6c9",
   "metadata": {},
   "source": [
    "7. What is the concept of a return value? Is it possible to have a return value in an expression?"
   ]
  },
  {
   "cell_type": "markdown",
   "id": "90b6e26d",
   "metadata": {},
   "source": [
    "Ans. A return value is the value that a function returns to the caller, and it can be any valid Python expression."
   ]
  },
  {
   "cell_type": "markdown",
   "id": "a6ecf0b6",
   "metadata": {},
   "source": [
    "8. If a function does not have a return statement, what is the return value of a call to that function?"
   ]
  },
  {
   "cell_type": "markdown",
   "id": "663d411e",
   "metadata": {},
   "source": [
    "Ans. None"
   ]
  },
  {
   "cell_type": "markdown",
   "id": "0f6471f4",
   "metadata": {},
   "source": [
    "9. How do you make a function variable refer to the global variable?"
   ]
  },
  {
   "cell_type": "markdown",
   "id": "265ec312",
   "metadata": {},
   "source": [
    "Ans. By using \"global\" keyword"
   ]
  },
  {
   "cell_type": "markdown",
   "id": "ccbdd8fb",
   "metadata": {},
   "source": [
    "10. What is the data type of None?"
   ]
  },
  {
   "cell_type": "markdown",
   "id": "86d7dc50",
   "metadata": {},
   "source": [
    "Ans. NoneType"
   ]
  },
  {
   "cell_type": "markdown",
   "id": "859426a8",
   "metadata": {},
   "source": [
    "11. What does the sentence import areallyourpetsnamederic do?|"
   ]
  },
  {
   "cell_type": "markdown",
   "id": "38e80712",
   "metadata": {},
   "source": [
    "Ans. Inport the module named areallyourpetsnamederic."
   ]
  },
  {
   "cell_type": "markdown",
   "id": "e3f2e762",
   "metadata": {},
   "source": [
    "12. If you had a bacon() feature in a spam module, what would you call it after importing spam?"
   ]
  },
  {
   "cell_type": "markdown",
   "id": "5fbf36fc",
   "metadata": {},
   "source": [
    "Ans. from spam import bacon"
   ]
  },
  {
   "cell_type": "markdown",
   "id": "b1b7d95d",
   "metadata": {},
   "source": [
    "13. What can you do to save a programme from crashing if it encounters an error?"
   ]
  },
  {
   "cell_type": "markdown",
   "id": "da6c16f9",
   "metadata": {},
   "source": [
    "Ans. Try and except statements"
   ]
  },
  {
   "cell_type": "markdown",
   "id": "c9a18a1c",
   "metadata": {},
   "source": [
    "14. What is the purpose of the try clause? What is the purpose of the except clause?"
   ]
  },
  {
   "cell_type": "markdown",
   "id": "04933d80",
   "metadata": {},
   "source": [
    "Ans. potential error statements come under try and what if error comes and we need to bypass error we put that in except "
   ]
  },
  {
   "cell_type": "code",
   "execution_count": null,
   "id": "bf9812a1",
   "metadata": {},
   "outputs": [],
   "source": []
  }
 ],
 "metadata": {
  "kernelspec": {
   "display_name": "Python 3 (ipykernel)",
   "language": "python",
   "name": "python3"
  },
  "language_info": {
   "codemirror_mode": {
    "name": "ipython",
    "version": 3
   },
   "file_extension": ".py",
   "mimetype": "text/x-python",
   "name": "python",
   "nbconvert_exporter": "python",
   "pygments_lexer": "ipython3",
   "version": "3.9.13"
  }
 },
 "nbformat": 4,
 "nbformat_minor": 5
}
