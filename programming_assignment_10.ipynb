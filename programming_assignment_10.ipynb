{
 "cells": [
  {
   "cell_type": "markdown",
   "metadata": {},
   "source": [
    "1. Write a Python program to find sum of elements in list?\n",
    "2. Write a Python program to Multiply all numbers in the list?\n",
    "3. Write a Python program to find smallest number in a list?\n",
    "4. Write a Python program to find largest number in a list?\n",
    "5. Write a Python program to find second largest number in a list?\n",
    "6. Write a Python program to find N largest elements from a list?\n",
    "7. Write a Python program to print even numbers in a list?\n",
    "8. Write a Python program to print odd numbers in a List?\n",
    "9. Write a Python program to Remove empty List from List?\n",
    "10. Write a Python program to Cloning or Copying a list?\n",
    "11. Write a Python program to Count occurrences of an element in a list?"
   ]
  },
  {
   "cell_type": "code",
   "execution_count": 6,
   "metadata": {},
   "outputs": [
    {
     "data": {
      "text/plain": [
       "6"
      ]
     },
     "execution_count": 6,
     "metadata": {},
     "output_type": "execute_result"
    }
   ],
   "source": [
    "#1\n",
    "\n",
    "def sum_of_elements(list):\n",
    "    sum = 0\n",
    "    for i in list:\n",
    "        sum = sum+i\n",
    "    return sum\n",
    "\n",
    "ls = [1,2,3]\n",
    "\n",
    "sum_of_elements(ls)\n",
    "        \n"
   ]
  },
  {
   "cell_type": "code",
   "execution_count": 8,
   "metadata": {},
   "outputs": [
    {
     "data": {
      "text/plain": [
       "10"
      ]
     },
     "execution_count": 8,
     "metadata": {},
     "output_type": "execute_result"
    }
   ],
   "source": [
    "#2\n",
    "\n",
    "def multiplication_of_elements(list):\n",
    "    mul = 1\n",
    "    for i in list:\n",
    "        mul = mul*i\n",
    "    return mul\n",
    "\n",
    "ls = [1,2,5]\n",
    "\n",
    "multiplication_of_elements(ls)"
   ]
  },
  {
   "cell_type": "code",
   "execution_count": 10,
   "metadata": {},
   "outputs": [
    {
     "data": {
      "text/plain": [
       "2"
      ]
     },
     "execution_count": 10,
     "metadata": {},
     "output_type": "execute_result"
    }
   ],
   "source": [
    "#3\n",
    "\n",
    "def smallest_elelemt(list):\n",
    "    small = list[0]\n",
    "    for i in list:\n",
    "        if i < small:\n",
    "            small = i\n",
    "    return small\n",
    "\n",
    "ls = [4,2,5]\n",
    "\n",
    "smallest_elelemt(ls)"
   ]
  },
  {
   "cell_type": "code",
   "execution_count": 12,
   "metadata": {},
   "outputs": [
    {
     "data": {
      "text/plain": [
       "5"
      ]
     },
     "execution_count": 12,
     "metadata": {},
     "output_type": "execute_result"
    }
   ],
   "source": [
    "#4\n",
    "\n",
    "def largest_elelemt(list):\n",
    "    large = list[0]\n",
    "    for i in list:\n",
    "        if i > large:\n",
    "            large = i\n",
    "    return large\n",
    "\n",
    "ls = [4,2,5]\n",
    "\n",
    "largest_elelemt(ls)"
   ]
  },
  {
   "cell_type": "code",
   "execution_count": 15,
   "metadata": {},
   "outputs": [
    {
     "data": {
      "text/plain": [
       "7"
      ]
     },
     "execution_count": 15,
     "metadata": {},
     "output_type": "execute_result"
    }
   ],
   "source": [
    "#5 #took idea from internet\n",
    "\n",
    "def sec_largest_elelemt(list):\n",
    "    list.sort()\n",
    "    sec_large = list[-2]\n",
    "    return sec_large\n",
    "\n",
    "ls = [4,2,5,6,7,8]\n",
    "\n",
    "sec_largest_elelemt(ls)"
   ]
  },
  {
   "cell_type": "code",
   "execution_count": 20,
   "metadata": {},
   "outputs": [
    {
     "data": {
      "text/plain": [
       "[8, 7, 6, 5, 4]"
      ]
     },
     "execution_count": 20,
     "metadata": {},
     "output_type": "execute_result"
    }
   ],
   "source": [
    "#6 \n",
    "\n",
    "def n_largest_elelemt(list,n):\n",
    "    list.sort(reverse = True)\n",
    "    n_large = list[:n]\n",
    "    return n_large\n",
    "\n",
    "ls = [4,2,5,6,7,8]\n",
    "n = 5\n",
    "n_largest_elelemt(ls,n)"
   ]
  },
  {
   "cell_type": "code",
   "execution_count": 24,
   "metadata": {},
   "outputs": [
    {
     "name": "stdout",
     "output_type": "stream",
     "text": [
      "4\n",
      "2\n",
      "6\n",
      "8\n"
     ]
    }
   ],
   "source": [
    "# 7\n",
    "\n",
    "def even(list):\n",
    "    for i in list:\n",
    "        if i%2 == 0:\n",
    "            print(i)\n",
    "ls = [4,2,5,6,7,8]   \n",
    "even(ls)"
   ]
  },
  {
   "cell_type": "code",
   "execution_count": 26,
   "metadata": {},
   "outputs": [
    {
     "name": "stdout",
     "output_type": "stream",
     "text": [
      "5\n",
      "7\n"
     ]
    }
   ],
   "source": [
    "# 8\n",
    "\n",
    "def odd(list):\n",
    "    for i in list:\n",
    "        if i%2 != 0:\n",
    "            print(i)\n",
    "ls = [4,2,5,6,7,8]   \n",
    "odd(ls)"
   ]
  },
  {
   "cell_type": "code",
   "execution_count": 30,
   "metadata": {},
   "outputs": [
    {
     "data": {
      "text/plain": [
       "[[1, 2, 3], [4, 5, 6], [7, 8, 9]]"
      ]
     },
     "execution_count": 30,
     "metadata": {},
     "output_type": "execute_result"
    }
   ],
   "source": [
    "#9\n",
    "\n",
    "def remove_empty_lists(list):\n",
    "    new_list = []\n",
    "    for i in list:\n",
    "        if len(i) > 0:\n",
    "            new_list.append(i)\n",
    "    return new_list\n",
    "\n",
    "\n",
    "ls = [[1, 2, 3], [], [4, 5, 6], [], [7, 8, 9]]\n",
    "remove_empty_lists(ls)\n",
    "\n"
   ]
  },
  {
   "cell_type": "code",
   "execution_count": 31,
   "metadata": {},
   "outputs": [
    {
     "data": {
      "text/plain": [
       "[1, 2, 3, 4, 5]"
      ]
     },
     "execution_count": 31,
     "metadata": {},
     "output_type": "execute_result"
    }
   ],
   "source": [
    "#10\n",
    "\n",
    "def clone_list(list):\n",
    "    new_list = list[:]\n",
    "    return new_list\n",
    "\n",
    "\n",
    "ls = [1, 2, 3, 4, 5]\n",
    "\n",
    "clone_list(ls)"
   ]
  },
  {
   "cell_type": "code",
   "execution_count": 35,
   "metadata": {},
   "outputs": [
    {
     "data": {
      "text/plain": [
       "2"
      ]
     },
     "execution_count": 35,
     "metadata": {},
     "output_type": "execute_result"
    }
   ],
   "source": [
    "#11\n",
    "\n",
    "def count(list, ele):\n",
    "    count = 0\n",
    "    for i in list:\n",
    "        if i == ele:\n",
    "            count += 1\n",
    "    return count\n",
    "\n",
    "\n",
    "ls = [1, 2, 3, 1, 1, 2]\n",
    "ele = 2\n",
    "count(ls,ele)"
   ]
  },
  {
   "cell_type": "code",
   "execution_count": null,
   "metadata": {},
   "outputs": [],
   "source": []
  }
 ],
 "metadata": {
  "kernelspec": {
   "display_name": "Python 3",
   "language": "python",
   "name": "python3"
  },
  "language_info": {
   "codemirror_mode": {
    "name": "ipython",
    "version": 3
   },
   "file_extension": ".py",
   "mimetype": "text/x-python",
   "name": "python",
   "nbconvert_exporter": "python",
   "pygments_lexer": "ipython3",
   "version": "3.9.1"
  }
 },
 "nbformat": 4,
 "nbformat_minor": 4
}
