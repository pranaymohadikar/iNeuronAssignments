{
 "cells": [
  {
   "cell_type": "markdown",
   "metadata": {},
   "source": [
    "1. Write a Python Program to Add Two Matrices?"
   ]
  },
  {
   "cell_type": "code",
   "execution_count": 14,
   "metadata": {},
   "outputs": [],
   "source": [
    "def sum_mat(mat1,mat2):\n",
    "    if len(mat1) != len(mat2):\n",
    "        raise ValueError(\"The matrices must have the same dimensions.\")\n",
    "    \n",
    "    result = [[0,0,0],\n",
    "         [0,0,0],\n",
    "         [0,0,0]]\n",
    "    \n",
    "    for i in range(len(mat1)):\n",
    "   # iterate through columns\n",
    "       for j in range(len(mat1[0])):\n",
    "           result[i][j] = mat1[i][j] + mat2[i][j]\n",
    "\n",
    "    for r in result:\n",
    "        print( r)"
   ]
  },
  {
   "cell_type": "code",
   "execution_count": 15,
   "metadata": {},
   "outputs": [],
   "source": [
    "mat1 = [[12,7,3],\n",
    "    [4 ,5,6],\n",
    "    [7 ,8,9]]\n",
    "mat2 = [[5,8,1],\n",
    "    [6,7,3],\n",
    "    [4,5,9]]"
   ]
  },
  {
   "cell_type": "code",
   "execution_count": 16,
   "metadata": {},
   "outputs": [
    {
     "name": "stdout",
     "output_type": "stream",
     "text": [
      "[17, 15, 4]\n",
      "[10, 12, 9]\n",
      "[11, 13, 18]\n"
     ]
    }
   ],
   "source": [
    "sum_mat(mat1,mat2)"
   ]
  },
  {
   "cell_type": "markdown",
   "metadata": {},
   "source": [
    "2. Write a Python Program to Multiply Two Matrices?"
   ]
  },
  {
   "cell_type": "code",
   "execution_count": 18,
   "metadata": {},
   "outputs": [],
   "source": [
    "def multiply_mat(mat1,mat2):\n",
    "    if len(mat1) != len(mat2):\n",
    "        raise ValueError(\"The matrices must have the same dimensions.\")\n",
    "        \n",
    "    result = [[0,0,0],\n",
    "         [0,0,0],\n",
    "         [0,0,0]]\n",
    "    \n",
    "    # iterate through rows of X\n",
    "    for i in range(len(mat1)):\n",
    "   # iterate through columns of Y\n",
    "       for j in range(len(mat2[0])):\n",
    "       # iterate through rows of Y\n",
    "           for k in range(len(mat2)):\n",
    "               result[i][j] += mat1[i][k] * mat2[k][j]\n",
    "\n",
    "    for r in result:\n",
    "        print(r)"
   ]
  },
  {
   "cell_type": "code",
   "execution_count": 19,
   "metadata": {},
   "outputs": [],
   "source": [
    "mat1 = [[12,7,3],\n",
    "    [4 ,5,6],\n",
    "    [7 ,8,9]]\n",
    "mat2 = [[5,8,1],\n",
    "    [6,7,3],\n",
    "    [4,5,9]]"
   ]
  },
  {
   "cell_type": "code",
   "execution_count": 20,
   "metadata": {},
   "outputs": [
    {
     "name": "stdout",
     "output_type": "stream",
     "text": [
      "[114, 160, 60]\n",
      "[74, 97, 73]\n",
      "[119, 157, 112]\n"
     ]
    }
   ],
   "source": [
    "multiply_mat(mat1,mat2)"
   ]
  },
  {
   "cell_type": "markdown",
   "metadata": {},
   "source": [
    "3. Write a Python Program to Transpose a Matrix?"
   ]
  },
  {
   "cell_type": "code",
   "execution_count": 22,
   "metadata": {},
   "outputs": [
    {
     "name": "stdout",
     "output_type": "stream",
     "text": [
      "The transposed matrix is:\n",
      "[1, 4, 7]\n",
      "[2, 5, 8]\n",
      "[3, 6, 9]\n"
     ]
    }
   ],
   "source": [
    "#took help from internet to make it more precise\n",
    "\n",
    "def transpose_mat(mat):\n",
    "    r = len(mat)\n",
    "    c = len(mat[0])\n",
    "\n",
    "    # Create a new matrix with dimensions swapped\n",
    "    result = [[0 for _ in range(r)] for _ in range(c)]\n",
    "\n",
    "    # Fill the result matrix with transposed elements\n",
    "    for i in range(r):\n",
    "        for j in range(c):\n",
    "            result[j][i] = mat[i][j]\n",
    "\n",
    "    return result\n",
    "\n",
    "# Example usage:\n",
    "mat = [[1, 2, 3],\n",
    "          [4, 5, 6],\n",
    "          [7, 8, 9]]\n",
    "\n",
    "result = transpose_mat(mat)\n",
    "print(\"The transposed matrix is:\")\n",
    "for row in result:\n",
    "    print(row)\n"
   ]
  },
  {
   "cell_type": "markdown",
   "metadata": {},
   "source": [
    "4. Write a Python Program to Sort Words in Alphabetic Order?"
   ]
  },
  {
   "cell_type": "code",
   "execution_count": 23,
   "metadata": {},
   "outputs": [
    {
     "name": "stdout",
     "output_type": "stream",
     "text": [
      "Enter a list of words: pranay mohadikar vinay dilip baby\n",
      "baby\n",
      "dilip\n",
      "mohadikar\n",
      "pranay\n",
      "vinay\n"
     ]
    }
   ],
   "source": [
    "def sort_words(words):\n",
    "    sorted_words = sorted(words)\n",
    "    return sorted_words\n",
    "\n",
    "input_words = input(\"Enter a list of words: \").split()\n",
    "sorted_words = sort_words(input_words)\n",
    "\n",
    "for word in sorted_words:\n",
    "    print(word)\n"
   ]
  },
  {
   "cell_type": "markdown",
   "metadata": {},
   "source": [
    "5. Write a Python Program to Remove Punctuation From a String?"
   ]
  },
  {
   "cell_type": "code",
   "execution_count": 25,
   "metadata": {},
   "outputs": [
    {
     "name": "stdout",
     "output_type": "stream",
     "text": [
      "why why you not able to sort it out\n"
     ]
    }
   ],
   "source": [
    "import string\n",
    "\n",
    "def remove_punctuation(text):\n",
    "    punctuation = string.punctuation\n",
    "    no_punctuation = \"\".join([char for char in text if char not in punctuation])\n",
    "    return no_punctuation\n",
    "\n",
    "text = \"why?? why you? not able to sort it out.\"\n",
    "\n",
    "no_punctuation = remove_punctuation(text)\n",
    "\n",
    "print(no_punctuation)\n"
   ]
  },
  {
   "cell_type": "code",
   "execution_count": null,
   "metadata": {},
   "outputs": [],
   "source": []
  }
 ],
 "metadata": {
  "kernelspec": {
   "display_name": "Python 3",
   "language": "python",
   "name": "python3"
  },
  "language_info": {
   "codemirror_mode": {
    "name": "ipython",
    "version": 3
   },
   "file_extension": ".py",
   "mimetype": "text/x-python",
   "name": "python",
   "nbconvert_exporter": "python",
   "pygments_lexer": "ipython3",
   "version": "3.9.1"
  }
 },
 "nbformat": 4,
 "nbformat_minor": 4
}
